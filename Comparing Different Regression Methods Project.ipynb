{
 "cells": [
  {
   "cell_type": "markdown",
   "metadata": {},
   "source": [
    "# How Many Total Goals are Scored? Predicting the Total Number of Goals scored in a Premier League and EFL Championship Match using Regression Methods"
   ]
  },
  {
   "cell_type": "markdown",
   "metadata": {},
   "source": [
    "## Part 1: Project Background"
   ]
  },
  {
   "cell_type": "markdown",
   "metadata": {},
   "source": [
    "#### As an avid fan of statistics, soccer, and prediction, I've always been curious about whether it is possible to predict the total number of goals scored. In this project, I've used different regression methods - Multiple Linear Regression, Lasso Regression, Ridge Regression, K-Nearest Neighbor Regressor, and Random Forest Regressor to predict the total number of goals scored in a game played in the Premier League and EFL Championship. The dataset can be obtained here: https://www.football-data.co.uk/englandm.php"
   ]
  },
  {
   "cell_type": "markdown",
   "metadata": {},
   "source": [
    "#### The reason I didn't use the classification method (because number of goals scored is a discrete variable... there is no 2.1 goals) is because I wanted to implement the model of choice in predicting the outcome for the U/O 2.5Goals category in soccer betting. I wanted to see if I could predict the total number of goals as precise as possiblt to predict that betting result."
   ]
  },
  {
   "cell_type": "markdown",
   "metadata": {},
   "source": [
    "## Part 2: Data Cleaning"
   ]
  },
  {
   "cell_type": "code",
   "execution_count": 277,
   "metadata": {},
   "outputs": [],
   "source": [
    "# Import Libraries\n",
    "import matplotlib.pyplot as plt\n",
    "import numpy as np\n",
    "import pandas as pd\n",
    "import seaborn as sns\n",
    "from sklearn.model_selection import train_test_split\n",
    "from sklearn.linear_model import LinearRegression\n",
    "from sklearn.linear_model import Ridge\n",
    "from sklearn.linear_model import Lasso\n",
    "from sklearn.neighbors import KNeighborsRegressor\n",
    "from sklearn.ensemble import RandomForestRegressor\n",
    "from sklearn.metrics import r2_score\n",
    "from sklearn.metrics import mean_squared_error\n",
    "from sklearn.model_selection import cross_val_score\n",
    "from sklearn.model_selection import GridSearchCV"
   ]
  },
  {
   "cell_type": "code",
   "execution_count": 196,
   "metadata": {
    "scrolled": true
   },
   "outputs": [
    {
     "name": "stdout",
     "output_type": "stream",
     "text": [
      "(932, 107)\n"
     ]
    }
   ],
   "source": [
    "# import data & merge data\n",
    "\n",
    "# import EFL Championship Data\n",
    "df1 = pd.read_csv(\"Championship.csv\")\n",
    "\n",
    "# import Premier League Data\n",
    "df2 = pd.read_csv(\"PL.csv\")\n",
    "\n",
    "# Merge two dataframes\n",
    "frames = [df1, df2]\n",
    "df = pd.concat(frames)\n",
    "\n",
    "# Create a new column of 'TG (as in Total Goals)' = 'Full Time Home Goals' + 'Full Time Away Goals'\n",
    "df['TG'] = df['FTHG'] + df['FTAG']\n",
    "\n",
    "# (rows, column) numbers of data \n",
    "print(df.shape)"
   ]
  },
  {
   "cell_type": "code",
   "execution_count": 169,
   "metadata": {},
   "outputs": [
    {
     "data": {
      "text/html": [
       "<div>\n",
       "<style scoped>\n",
       "    .dataframe tbody tr th:only-of-type {\n",
       "        vertical-align: middle;\n",
       "    }\n",
       "\n",
       "    .dataframe tbody tr th {\n",
       "        vertical-align: top;\n",
       "    }\n",
       "\n",
       "    .dataframe thead th {\n",
       "        text-align: right;\n",
       "    }\n",
       "</style>\n",
       "<table border=\"1\" class=\"dataframe\">\n",
       "  <thead>\n",
       "    <tr style=\"text-align: right;\">\n",
       "      <th></th>\n",
       "      <th>Div</th>\n",
       "      <th>Date</th>\n",
       "      <th>Time</th>\n",
       "      <th>HomeTeam</th>\n",
       "      <th>AwayTeam</th>\n",
       "      <th>FTHG</th>\n",
       "      <th>FTAG</th>\n",
       "      <th>FTR</th>\n",
       "      <th>HTHG</th>\n",
       "      <th>HTAG</th>\n",
       "      <th>...</th>\n",
       "      <th>AHCh</th>\n",
       "      <th>B365CAHH</th>\n",
       "      <th>B365CAHA</th>\n",
       "      <th>PCAHH</th>\n",
       "      <th>PCAHA</th>\n",
       "      <th>MaxCAHH</th>\n",
       "      <th>MaxCAHA</th>\n",
       "      <th>AvgCAHH</th>\n",
       "      <th>AvgCAHA</th>\n",
       "      <th>TG</th>\n",
       "    </tr>\n",
       "  </thead>\n",
       "  <tbody>\n",
       "    <tr>\n",
       "      <th>0</th>\n",
       "      <td>E1</td>\n",
       "      <td>02/08/2019</td>\n",
       "      <td>19:45</td>\n",
       "      <td>Luton</td>\n",
       "      <td>Middlesbrough</td>\n",
       "      <td>3</td>\n",
       "      <td>3</td>\n",
       "      <td>D</td>\n",
       "      <td>2</td>\n",
       "      <td>2</td>\n",
       "      <td>...</td>\n",
       "      <td>-0.25</td>\n",
       "      <td>1.94</td>\n",
       "      <td>1.96</td>\n",
       "      <td>1.96</td>\n",
       "      <td>1.96</td>\n",
       "      <td>1.98</td>\n",
       "      <td>1.98</td>\n",
       "      <td>1.94</td>\n",
       "      <td>1.93</td>\n",
       "      <td>6</td>\n",
       "    </tr>\n",
       "    <tr>\n",
       "      <th>1</th>\n",
       "      <td>E1</td>\n",
       "      <td>03/08/2019</td>\n",
       "      <td>15:00</td>\n",
       "      <td>Barnsley</td>\n",
       "      <td>Fulham</td>\n",
       "      <td>1</td>\n",
       "      <td>0</td>\n",
       "      <td>H</td>\n",
       "      <td>1</td>\n",
       "      <td>0</td>\n",
       "      <td>...</td>\n",
       "      <td>0.25</td>\n",
       "      <td>2.04</td>\n",
       "      <td>1.86</td>\n",
       "      <td>2.05</td>\n",
       "      <td>1.87</td>\n",
       "      <td>2.07</td>\n",
       "      <td>1.88</td>\n",
       "      <td>2.02</td>\n",
       "      <td>1.84</td>\n",
       "      <td>1</td>\n",
       "    </tr>\n",
       "    <tr>\n",
       "      <th>2</th>\n",
       "      <td>E1</td>\n",
       "      <td>03/08/2019</td>\n",
       "      <td>15:00</td>\n",
       "      <td>Blackburn</td>\n",
       "      <td>Charlton</td>\n",
       "      <td>1</td>\n",
       "      <td>2</td>\n",
       "      <td>A</td>\n",
       "      <td>0</td>\n",
       "      <td>1</td>\n",
       "      <td>...</td>\n",
       "      <td>-0.75</td>\n",
       "      <td>1.88</td>\n",
       "      <td>2.02</td>\n",
       "      <td>1.91</td>\n",
       "      <td>2.01</td>\n",
       "      <td>1.94</td>\n",
       "      <td>2.02</td>\n",
       "      <td>1.89</td>\n",
       "      <td>1.98</td>\n",
       "      <td>3</td>\n",
       "    </tr>\n",
       "    <tr>\n",
       "      <th>3</th>\n",
       "      <td>E1</td>\n",
       "      <td>03/08/2019</td>\n",
       "      <td>15:00</td>\n",
       "      <td>Brentford</td>\n",
       "      <td>Birmingham</td>\n",
       "      <td>0</td>\n",
       "      <td>1</td>\n",
       "      <td>A</td>\n",
       "      <td>0</td>\n",
       "      <td>1</td>\n",
       "      <td>...</td>\n",
       "      <td>-0.50</td>\n",
       "      <td>2.00</td>\n",
       "      <td>1.90</td>\n",
       "      <td>2.01</td>\n",
       "      <td>1.91</td>\n",
       "      <td>2.01</td>\n",
       "      <td>1.96</td>\n",
       "      <td>1.96</td>\n",
       "      <td>1.90</td>\n",
       "      <td>1</td>\n",
       "    </tr>\n",
       "    <tr>\n",
       "      <th>4</th>\n",
       "      <td>E1</td>\n",
       "      <td>03/08/2019</td>\n",
       "      <td>15:00</td>\n",
       "      <td>Millwall</td>\n",
       "      <td>Preston</td>\n",
       "      <td>1</td>\n",
       "      <td>0</td>\n",
       "      <td>H</td>\n",
       "      <td>1</td>\n",
       "      <td>0</td>\n",
       "      <td>...</td>\n",
       "      <td>-0.25</td>\n",
       "      <td>2.11</td>\n",
       "      <td>1.79</td>\n",
       "      <td>2.12</td>\n",
       "      <td>1.81</td>\n",
       "      <td>2.13</td>\n",
       "      <td>1.87</td>\n",
       "      <td>2.08</td>\n",
       "      <td>1.80</td>\n",
       "      <td>1</td>\n",
       "    </tr>\n",
       "  </tbody>\n",
       "</table>\n",
       "<p>5 rows × 107 columns</p>\n",
       "</div>"
      ],
      "text/plain": [
       "  Div        Date   Time   HomeTeam       AwayTeam  FTHG  FTAG FTR  HTHG  \\\n",
       "0  E1  02/08/2019  19:45      Luton  Middlesbrough     3     3   D     2   \n",
       "1  E1  03/08/2019  15:00   Barnsley         Fulham     1     0   H     1   \n",
       "2  E1  03/08/2019  15:00  Blackburn       Charlton     1     2   A     0   \n",
       "3  E1  03/08/2019  15:00  Brentford     Birmingham     0     1   A     0   \n",
       "4  E1  03/08/2019  15:00   Millwall        Preston     1     0   H     1   \n",
       "\n",
       "   HTAG  ...  AHCh B365CAHH  B365CAHA  PCAHH  PCAHA  MaxCAHH  MaxCAHA  \\\n",
       "0     2  ... -0.25     1.94      1.96   1.96   1.96     1.98     1.98   \n",
       "1     0  ...  0.25     2.04      1.86   2.05   1.87     2.07     1.88   \n",
       "2     1  ... -0.75     1.88      2.02   1.91   2.01     1.94     2.02   \n",
       "3     1  ... -0.50     2.00      1.90   2.01   1.91     2.01     1.96   \n",
       "4     0  ... -0.25     2.11      1.79   2.12   1.81     2.13     1.87   \n",
       "\n",
       "   AvgCAHH  AvgCAHA  TG  \n",
       "0     1.94     1.93   6  \n",
       "1     2.02     1.84   1  \n",
       "2     1.89     1.98   3  \n",
       "3     1.96     1.90   1  \n",
       "4     2.08     1.80   1  \n",
       "\n",
       "[5 rows x 107 columns]"
      ]
     },
     "execution_count": 169,
     "metadata": {},
     "output_type": "execute_result"
    }
   ],
   "source": [
    "df.head() # observing the first few rows of the dataset"
   ]
  },
  {
   "cell_type": "code",
   "execution_count": 170,
   "metadata": {},
   "outputs": [
    {
     "data": {
      "text/plain": [
       "Div         0\n",
       "Date        0\n",
       "Time        0\n",
       "HomeTeam    0\n",
       "AwayTeam    0\n",
       "           ..\n",
       "MaxCAHH     0\n",
       "MaxCAHA     0\n",
       "AvgCAHH     0\n",
       "AvgCAHA     0\n",
       "TG          0\n",
       "Length: 107, dtype: int64"
      ]
     },
     "execution_count": 170,
     "metadata": {},
     "output_type": "execute_result"
    }
   ],
   "source": [
    "df.isnull().sum()"
   ]
  },
  {
   "cell_type": "markdown",
   "metadata": {},
   "source": [
    "## Part 3: Exploratory Data Analysis"
   ]
  },
  {
   "cell_type": "code",
   "execution_count": 197,
   "metadata": {},
   "outputs": [
    {
     "name": "stdout",
     "output_type": "stream",
     "text": [
      "FTR\n",
      "A    289\n",
      "D    241\n",
      "H    402\n",
      "Name: FTR, dtype: int64\n",
      "Home Team Win Percentage: 43.13304721030043\n",
      "Draw Percentage: 25.858369098712448\n",
      "Away Team Win Percentage: 31.008583690987123\n"
     ]
    },
    {
     "data": {
      "image/png": "[encoded data removed]",
      "text/plain": [
       "<Figure size 432x288 with 1 Axes>"
      ]
     },
     "metadata": {},
     "output_type": "display_data"
    }
   ],
   "source": [
    "# visualizing the proportion of results from both leagues combined (FTR = Full Time Results)\n",
    "\n",
    "print(df.groupby('FTR')['FTR'].count())\n",
    "\n",
    "print(\"Home Team Win Percentage:\", 100*402/(402+241+289))\n",
    "print(\"Draw Percentage:\", 100*241/(402+241+289))\n",
    "print(\"Away Team Win Percentage:\", 100*289/(402+241+289))\n",
    "\n",
    "names='Home Team Win (43%)', 'Draw Percentage (26%)', 'Away Team Win Percentage (31%)' # naming each variable\n",
    "size=[43, 26, 31]  # creating size for each variable\n",
    "my_circle=plt.Circle( (0,0), 0.7, color='white') # creating the empty circle in the middle of the doughnut chart\n",
    "plt.pie(size, labels=names, wedgeprops = { 'linewidth' : 5, 'edgecolor' : 'white' }) # creating wedges between the variables\n",
    "p=plt.gcf()\n",
    "p.gca().add_artist(my_circle)\n",
    "plt.title(\"Results from the Premier League and EFL Championship Combined (2019-20 Season)\")\n",
    "plt.show()"
   ]
  },
  {
   "cell_type": "code",
   "execution_count": 198,
   "metadata": {},
   "outputs": [
    {
     "name": "stdout",
     "output_type": "stream",
     "text": [
      "10\n",
      "count    932.000000\n",
      "mean       2.672747\n",
      "std        1.568072\n",
      "min        0.000000\n",
      "25%        2.000000\n",
      "50%        3.000000\n",
      "75%        4.000000\n",
      "max        9.000000\n",
      "Name: TG, dtype: float64\n"
     ]
    },
    {
     "data": {
      "text/plain": [
       "Text(0.5, 1.0, 'Distribution plot of Total Goals Scored, Mean:2.67, Standard Deviation:1.57')"
      ]
     },
     "execution_count": 198,
     "metadata": {},
     "output_type": "execute_result"
    },
    {
     "data": {
      "image/png": "[encoded data removed]",
      "text/plain": [
       "<Figure size 360x360 with 1 Axes>"
      ]
     },
     "metadata": {
      "needs_background": "light"
     },
     "output_type": "display_data"
    }
   ],
   "source": [
    "# Visualizing distribution of total number of goals\n",
    "\n",
    "# number of unique values in 'TG (total goals) column'\n",
    "print(df.TG.nunique())\n",
    "\n",
    "print(df.TG.describe())\n",
    "\n",
    "fig, ax = plt.subplots(figsize=(5,5)) # determine size of plot\n",
    "\n",
    "# creating a distribution plot with TG column\n",
    "ax = sns.distplot(df[\"TG\"], bins = 10, hist_kws = dict(edgecolor = \"black\"))\n",
    "plt.xlabel(\"\")\n",
    "plt.title(\"Distribution plot of Total Goals Scored, Mean:2.67, Standard Deviation:1.57\")"
   ]
  },
  {
   "cell_type": "code",
   "execution_count": 250,
   "metadata": {},
   "outputs": [
    {
     "data": {
      "text/plain": [
       "<matplotlib.axes._subplots.AxesSubplot at 0x1ae9de9bf48>"
      ]
     },
     "execution_count": 250,
     "metadata": {},
     "output_type": "execute_result"
    },
    {
     "data": {
      "image/png": "[encoded data removed]",
      "text/plain": [
       "<Figure size 432x288 with 2 Axes>"
      ]
     },
     "metadata": {
      "needs_background": "light"
     },
     "output_type": "display_data"
    }
   ],
   "source": [
    "# Correlation Heatmap of the variables of interest\n",
    "\n",
    "df = df[['TG', 'B365>2.5', 'B365<2.5', 'P>2.5', 'P<2.5', 'Max>2.5', 'Max<2.5', 'Avg>2.5', 'Avg<2.5']]\n",
    "\n",
    "df = df.dropna() # the data had very few missing values that were dropped\n",
    "\n",
    "corr = df.corr()\n",
    "\n",
    "df.corr()\n",
    "\n",
    "sns.heatmap(corr, annot=True, cmap = \"Blues\")"
   ]
  },
  {
   "cell_type": "markdown",
   "metadata": {},
   "source": [
    "## Part 4: Model Building and Evaluation"
   ]
  },
  {
   "cell_type": "code",
   "execution_count": 202,
   "metadata": {},
   "outputs": [],
   "source": [
    "# Defining the Dependent Variable (Y) and Independent Variables (X) \n",
    "\n",
    "Y = df['TG']\n",
    "X = df.drop(['TG'], axis = 1)\n",
    "\n",
    "# Test/Train Split (20/80 Split)\n",
    "\n",
    "X_train, X_test, Y_train, Y_test = train_test_split(X, Y, test_size = 0.2, random_state = 42)"
   ]
  },
  {
   "cell_type": "markdown",
   "metadata": {},
   "source": [
    "### Part 4-1: Multiple Linear Regression"
   ]
  },
  {
   "cell_type": "code",
   "execution_count": 233,
   "metadata": {},
   "outputs": [
    {
     "name": "stdout",
     "output_type": "stream",
     "text": [
      "R-squared Value(Train/Test Split): 0.08414641990094796\n",
      "Test MSE(Train/Test Split): 2.0490878320738264\n",
      "R-squared value(k=10 fold CV) 0.017579825139642857\n",
      "MSE(k=10 fold CV) 2.378925804126963\n"
     ]
    }
   ],
   "source": [
    "# Train/Test Split (80:20) Method\n",
    "reg = LinearRegression() # building the model\n",
    "reg.fit(X_train, Y_train) # fitting the model\n",
    "Y_pred = reg.predict(X_test) # predicting Y values based on X_test data\n",
    "\n",
    "print(\"R-squared Value(Train/Test Split):\", r2_score(Y_test, Y_pred)) # calculating the R^2 value of the test dataset\n",
    "print(\"Test MSE(Train/Test Split):\", mean_squared_error(Y_test, Y_pred)) # calculating the mean squared error value (the test MSE)\n",
    "# --------------------------------------------------------------------------------------------------------------------------------------\n",
    "# k = 10 fold CV\n",
    "\n",
    "R2 = cross_val_score(reg, X, Y, scoring = 'r2', cv = 10) # get r-squared value for k = 10 fold CV\n",
    "mse = cross_val_score(reg, X, Y, scoring = 'neg_mean_squared_error', cv = 10) # get test MSE for k = 10 fold CV\n",
    "\n",
    "print(\"R-squared value(k=10 fold CV)\", R2.mean())\n",
    "print(\"MSE(k=10 fold CV)\", -(mse.mean()))\n"
   ]
  },
  {
   "cell_type": "markdown",
   "metadata": {},
   "source": [
    "### Part 4-2: Ridge Regression"
   ]
  },
  {
   "cell_type": "code",
   "execution_count": 245,
   "metadata": {},
   "outputs": [
    {
     "name": "stdout",
     "output_type": "stream",
     "text": [
      "{'alpha': 100}\n",
      "2.462521468166641\n",
      "R-squared Value(Train/Test Split): 0.06833939612607864\n",
      "Test MSE(Train/Test Split): 2.0844537254679247\n",
      "{'alpha': 1}\n",
      "2.374123831142792\n",
      "R-squared value(k=10 fold CV) 0.02054739509368798\n",
      "MSE(k=10 fold CV) 2.374123831142792\n",
      "[-1.69864572 -2.48876148 -2.4066601  -3.04910162 -2.63632548 -2.99257519\n",
      " -2.71743328 -1.61737991 -2.10899607 -2.02535946]\n"
     ]
    }
   ],
   "source": [
    "# Train/Test Split (80:20) Method\n",
    "\n",
    "# Finding the best parameter, alpha\n",
    "ridge = Ridge()\n",
    "\n",
    "parameters = {'alpha': [1e-10, 1e-5, 1e-3, 1e-1, 1, 10, 20, 100, 1000]}\n",
    "\n",
    "ridge_regressor = GridSearchCV(ridge, parameters, scoring = 'neg_mean_squared_error', cv = 10)\n",
    "\n",
    "ridge_regressor.fit(X_train, Y_train) # use training data \n",
    "\n",
    "# Best parameter\n",
    "print(ridge_regressor.best_params_)\n",
    "# Best train MSE value (lowest) using the best parameter\n",
    "print(-ridge_regressor.best_score_)\n",
    "\n",
    "# Building the model again with alpha = 100\n",
    "ridge = Ridge(alpha = 100) # Build model\n",
    "ridge.fit(X_train, Y_train) # Fit the model using training dataset\n",
    "Y_pred = ridge.predict(X_test) # Predict on the test dataset\n",
    "\n",
    "print(\"R-squared Value(Train/Test Split):\", r2_score(Y_test, Y_pred)) # calculating the R^2 value of the test dataset\n",
    "print(\"Test MSE(Train/Test Split):\", mean_squared_error(Y_test, Y_pred)) # calculating the mean squared error value (the test MSE)\n",
    "\n",
    "#--------------------------------------------------------------------------------------------------------------------------------------\n",
    "\n",
    "# k = 10 fold CV\n",
    "\n",
    "# Finding the best parameter, alpha \n",
    "ridge = Ridge()\n",
    "\n",
    "parameters = {'alpha': [1e-10, 1e-5, 1e-3, 1e-1, 1, 10, 20, 100, 1000]}\n",
    "\n",
    "ridge_regressor = GridSearchCV(ridge, parameters, scoring = 'neg_mean_squared_error', cv = 10)\n",
    "\n",
    "ridge_regressor.fit(X, Y) # use whole data\n",
    "\n",
    "# Best parameter\n",
    "print(ridge_regressor.best_params_)\n",
    "# Best MSE (lowest MSE) using the best parameter \n",
    "print(-ridge_regressor.best_score_)\n",
    "\n",
    "ridge= Ridge(alpha = 1)\n",
    "\n",
    "R2 = cross_val_score(ridge, X, Y, scoring = 'r2', cv = 10) # get r-squared value for k = 10 fold CV\n",
    "\n",
    "print(\"R-squared value(k=10 fold CV)\", R2.mean())\n",
    "print(\"MSE(k=10 fold CV)\", -ridge_regressor.best_score_)\n",
    "print(cross_val_score(ridge, X, Y, scoring = 'neg_mean_squared_error', cv = 10))"
   ]
  },
  {
   "cell_type": "markdown",
   "metadata": {},
   "source": [
    "### Part 4-3: Lasso Regression"
   ]
  },
  {
   "cell_type": "code",
   "execution_count": 270,
   "metadata": {},
   "outputs": [
    {
     "name": "stdout",
     "output_type": "stream",
     "text": [
      "{'alpha': 100}\n",
      "2.462521468166641\n",
      "R-squared Value(Train/Test Split): -5.511798805990509e-05\n",
      "Test MSE(Train/Test Split): 2.237476402560835\n",
      "{'alpha': 1}\n",
      "2.374123831142792\n",
      "R-squared value(k=10 fold CV) -0.013063487796194772\n",
      "MSE(k=10 fold CV) 2.374123831142792\n",
      "[-1.68353618 -2.54595117 -2.54595117 -2.97329017 -2.63920613 -3.13635533\n",
      " -2.91786643 -1.66108609 -2.20438292 -2.26488145]\n"
     ]
    }
   ],
   "source": [
    "# Train/Test Split (80:20) Method\n",
    "\n",
    "# Finding the best parameter, alpha\n",
    "lasso = Lasso()\n",
    "\n",
    "parameters = {'alpha': [1e-10, 1e-5, 1e-3, 1e-1, 1, 10, 20, 100, 1000]}\n",
    "\n",
    "lasso_regressor = GridSearchCV(ridge, parameters, scoring = 'neg_mean_squared_error', cv = 10)\n",
    "\n",
    "lasso_regressor.fit(X_train, Y_train) # use training data \n",
    "\n",
    "# Best parameter\n",
    "print(lasso_regressor.best_params_)\n",
    "# Best train MSE value (lowest) using the best parameter\n",
    "print(-lasso_regressor.best_score_)\n",
    "\n",
    "# Building the model again with alpha = 100\n",
    "lasso = Lasso(alpha = 100) # Build model\n",
    "lasso.fit(X_train, Y_train) # Fit the model using training dataset\n",
    "Y_pred = lasso.predict(X_test) # Predict on the test dataset\n",
    "\n",
    "print(\"R-squared Value(Train/Test Split):\", r2_score(Y_test, Y_pred)) # calculating the R^2 value of the test dataset\n",
    "print(\"Test MSE(Train/Test Split):\", mean_squared_error(Y_test, Y_pred)) # calculating the mean squared error value (the test MSE)\n",
    "\n",
    "#--------------------------------------------------------------------------------------------------------------------------------------\n",
    "\n",
    "# k = 10 fold CV\n",
    "\n",
    "# Finding the best parameter, alpha \n",
    "lasso = Lasso()\n",
    "\n",
    "parameters = {'alpha': [1e-10, 1e-5, 1e-3, 1e-1, 1, 10, 20, 100, 1000]}\n",
    "\n",
    "lasso_regressor = GridSearchCV(ridge, parameters, scoring = 'neg_mean_squared_error', cv = 10)\n",
    "\n",
    "lasso_regressor.fit(X, Y) # use whole data\n",
    "\n",
    "# Best parameter\n",
    "print(lasso_regressor.best_params_)\n",
    "# Best MSE (lowest MSE) using the best parameter \n",
    "print(-lasso_regressor.best_score_)\n",
    "\n",
    "lasso = Lasso(alpha = 1)\n",
    "\n",
    "R2 = cross_val_score(lasso, X, Y, scoring = 'r2', cv = 10) # get r-squared value for k = 10 fold CV\n",
    "\n",
    "print(\"R-squared value(k=10 fold CV)\", R2.mean())\n",
    "print(\"MSE(k=10 fold CV)\", -lasso_regressor.best_score_)\n",
    "print(cross_val_score(lasso, X, Y, scoring = 'neg_mean_squared_error', cv = 10))"
   ]
  },
  {
   "cell_type": "markdown",
   "metadata": {},
   "source": [
    "### Part 4-4: K-Nearest Neighbors Regressor"
   ]
  },
  {
   "cell_type": "code",
   "execution_count": 254,
   "metadata": {},
   "outputs": [
    {
     "name": "stdout",
     "output_type": "stream",
     "text": [
      "R-squared Value(Train/Test Split): 0.06460355333881818\n",
      "Test MSE(Train/Test Split): 2.0928121248499396\n",
      "R-squared value(k=10 fold CV) -0.003377479928338323\n",
      "MSE(k=10 fold CV) 2.4214908003352336\n"
     ]
    }
   ],
   "source": [
    "# Here, I used k = sqrt(N), N = observations in training set\n",
    "# https://towardsdatascience.com/a-simple-introduction-to-k-nearest-neighbors-algorithm-b3519ed98e\n",
    "\n",
    "# Train/Test Split (80:20) Method\n",
    "\n",
    "neigh = KNeighborsRegressor(n_neighbors = 28) # build model\n",
    "neigh.fit(X_train, Y_train) # fit model with training data\n",
    "Y_pred = neigh.predict(X_test) # predict using test data\n",
    "\n",
    "print(\"R-squared Value(Train/Test Split):\", r2_score(Y_test, Y_pred)) # calculating the R^2 value of the test dataset\n",
    "print(\"Test MSE(Train/Test Split):\", mean_squared_error(Y_test, Y_pred)) # calculating the mean squared error value (the test MSE)\n",
    "\n",
    "# k = 10 fold CV\n",
    "\n",
    "neigh = KNeighborsRegressor(n_neighbors = 28) # build model\n",
    "\n",
    "R2 = cross_val_score(neigh, X, Y, scoring = 'r2', cv = 10) # get r-squared value for k = 10 fold CV\n",
    "mse = cross_val_score(neigh, X, Y, scoring = 'neg_mean_squared_error', cv = 10) # get test MSE for k = 10 fold CV\n",
    "\n",
    "print(\"R-squared value(k=10 fold CV)\", R2.mean())\n",
    "print(\"MSE(k=10 fold CV)\", -(mse.mean()))"
   ]
  },
  {
   "cell_type": "markdown",
   "metadata": {},
   "source": [
    "### Part 4-5: Random Forest Regressor"
   ]
  },
  {
   "cell_type": "code",
   "execution_count": 284,
   "metadata": {},
   "outputs": [
    {
     "name": "stdout",
     "output_type": "stream",
     "text": [
      "Best number of trees(based on training data): {'n_estimators': 200}\n",
      "Best MSE value acquired with best number of trees(based on training data): 2.9898128929178127\n",
      "R-squared Value(Train/Test Split): 0.04631335816838977\n",
      "Test MSE(Train/Test Split): 2.133733749424391\n",
      "Best number of trees(based on whole data): {'n_estimators': 200}\n",
      "Best MSE value acquired with best number of trees(based on whole data): 2.663251750094419\n",
      "R-squared value(k=10 fold CV) -0.11661917184291548\n",
      "MSE(k=10 fold CV) 2.663251750094419\n"
     ]
    }
   ],
   "source": [
    "# Train/Test Split (80:20) Method\n",
    "\n",
    "rfr = RandomForestRegressor(random_state = 42)\n",
    "\n",
    "parameters = {'n_estimators':[10, 100, 150, 200, 300]}\n",
    "\n",
    "CV_rfr = GridSearchCV(rfr, parameters, scoring = 'neg_mean_squared_error', cv = 10)\n",
    "\n",
    "CV_rfr.fit(X_train, Y_train)\n",
    "\n",
    "print(\"Best number of trees(based on training data):\", CV_rfr.best_params_)\n",
    "print(\"Best MSE value acquired with best number of trees(based on training data):\",-CV_rfr.best_score_)\n",
    "\n",
    "rf = RandomForestRegressor(n_estimators = 200, random_state = 42)\n",
    "rf.fit(X_train, Y_train)\n",
    "Y_pred = rf.predict(X_test)\n",
    "\n",
    "print(\"R-squared Value(Train/Test Split):\", r2_score(Y_test, Y_pred)) # calculating the R^2 value of the test dataset\n",
    "print(\"Test MSE(Train/Test Split):\", mean_squared_error(Y_test, Y_pred)) # calculating the mean squared error value (the test MSE)\n",
    "\n",
    "# k = 10 fold CV\n",
    "\n",
    "rfr = RandomForestRegressor(random_state = 42)\n",
    "\n",
    "parameters = {'n_estimators':[10, 100, 150, 200, 300]}\n",
    "\n",
    "CV_rfr = GridSearchCV(rfr, parameters, scoring = 'neg_mean_squared_error', cv = 10)\n",
    "\n",
    "CV_rfr.fit(X, Y)\n",
    "\n",
    "print(\"Best number of trees(based on whole data):\", CV_rfr.best_params_)\n",
    "print(\"Best MSE value acquired with best number of trees(based on whole data):\",-CV_rfr.best_score_)\n",
    "\n",
    "rfr_1 = RandomForestRegressor(n_estimators = 200, random_state = 42)\n",
    "\n",
    "R2 = cross_val_score(rfr_1, X, Y, scoring = 'r2', cv = 10) # get r-squared value for k = 10 fold CV\n",
    "\n",
    "print(\"R-squared value(k=10 fold CV)\", R2.mean())\n",
    "print(\"MSE(k=10 fold CV)\", -CV_rfr.best_score_)"
   ]
  },
  {
   "cell_type": "markdown",
   "metadata": {},
   "source": [
    "### Part 4-6: Model Comparison (based on test-MSE and an observation into R^2 values)"
   ]
  },
  {
   "cell_type": "code",
   "execution_count": 295,
   "metadata": {},
   "outputs": [
    {
     "data": {
      "image/png": "[encoded data removed]",
      "text/plain": [
       "<Figure size 432x288 with 1 Axes>"
      ]
     },
     "metadata": {
      "needs_background": "light"
     },
     "output_type": "display_data"
    }
   ],
   "source": [
    "# Test-MSEs (train/test split) and MSEs (k = 10 fold CV)\n",
    "\n",
    "# MSEs- Rounded to the fourth decimal-Multiple Linear Regression had best results\n",
    "data = {'Model Name': ['Multiple Linear Regression', 'Multiple Linear Regression','Ridge', 'Ridge', 'Lasso', 'Lasso', 'KNN', 'KNN',\n",
    "                       'Random Forest', 'Random Forest'],\n",
    "        'MSE': [2.0491, 2.3790 ,2.0845 ,2.3741 , 2.2375, 2.3741 , 2.0928, 2.4215 , 2.1337, 2.6633 ],\n",
    "       'Type': ['Train/Test', 'k=10 fold CV', 'Train/Test', 'k=10 fold CV', 'Train/Test', 'k=10 fold CV', 'Train/Test', \n",
    "                'k=10 fold CV', 'Train/Test', 'k=10 fold CV']}\n",
    "\n",
    "df = pd.DataFrame(data, columns = ['Model Name', 'MSE', 'Type'])\n",
    "\n",
    "df.pivot(\"Model Name\", \"Type\", \"MSE\").plot(kind='bar')\n",
    "\n",
    "plt.xlabel(\"\")\n",
    "plt.legend(title = \"\", bbox_to_anchor = (1,1))\n",
    "plt.xticks(rotation=45)\n",
    "plt.title(\"MSEs-Lower is better fit\")\n",
    "plt.grid()\n",
    "plt.show()\n",
    "\n",
    "# Based on Train/Test split, Multiple Linear Regression was best model!\n",
    "# However, based on k = 10 fold CV, Ridge and Lasso tie as the best model"
   ]
  },
  {
   "cell_type": "markdown",
   "metadata": {},
   "source": [
    "## Part 5: Things that I've Learned and Things worth looking into further"
   ]
  },
  {
   "cell_type": "markdown",
   "metadata": {},
   "source": [
    "#### - Different regression methods and searching for the best parameters for certain models (Lasso, Ridge(alpha values), Random Forest(number of trees), etc.)\n",
    "#### - Distribution of the dataset\n",
    "#### - Negative R-squared values -> worth looking into the reason why I had such results\n",
    "#### - Why did some models perform better than others?\n",
    "#### - If this was a classification problem (on predicting total number of goals scored) would the results have been any different?"
   ]
  },
  {
   "cell_type": "markdown",
   "metadata": {},
   "source": [
    "## Part 6: Resources that I've Used to Learn and Complete the Project"
   ]
  },
  {
   "cell_type": "markdown",
   "metadata": {},
   "source": [
    "#### Resources)\n",
    "#### -(Dataset)https://www.football-data.co.uk/englandm.php\n",
    "#### -(Decision Trees vs Random Forest) https://stats.stackexchange.com/questions/285834/difference-between-random-forests-and-decision-tree\n",
    "#### -(Decision Trees vs Random Forest) https://towardsdatascience.com/decision-trees-and-random-forests-df0c3123f991\n",
    "#### -(Example of using GridsearchCV(tuning parameters)-KNN) https://medium.com/@erikgreenj/k-neighbors-classifier-with-gridsearchcv-basics-3c445ddeb657\n",
    "#### -(Example of using GridsearchCV(tuning parameters)-Lasso,Ridge-CV) https://towardsdatascience.com/how-to-perform-lasso-and-ridge-regression-in-python-3b3b75541ad8\n",
    "#### -(R^2 as a way to compare models for best-fit?) https://data.library.virginia.edu/is-r-squared-useless/\n",
    "#### -(Ways to measure best fit for regression models) https://www.theanalysisfactor.com/assessing-the-fit-of-regression-models/\n",
    "#### -(The scoring parameter: defining model evaluation rules in cross_val_score) https://scikit-learn.org/stable/modules/model_evaluation.html#scoring-parameter\n",
    "#### -(low R squared values aren't always bad->R squared may be lower for values harder to predict) https://statisticsbyjim.com/regression/interpret-r-squared-regression/\n",
    "#### -(low and high alpha values on ridge regression) https://stackoverflow.com/questions/59706137/what-is-alpha-in-ridge-regression#:~:text=If%20Alpha%20is%20close%20to,and%20better%20generalize%20the%20coefficients.\n",
    "#### -(example of ridge and lasso regression in Python)https://www.pluralsight.com/guides/linear-lasso-ridge-regression-scikit-learn\n",
    "#### -(GridSearchCV with test/train data-KNN)https://towardsdatascience.com/grid-search-for-hyperparameter-tuning-9f63945e8fec\n",
    "#### -(what a negative R-squared value implies)https://stats.stackexchange.com/questions/12900/when-is-r-squared-negative\n",
    "#### -***(random forest using gridsearchCV)https://www.kaggle.com/sociopath00/random-forest-using-gridsearchcv\n",
    "#### -***(Lasso, Ridge)https://github.com/krishnaik06/RegressionandLasso/blob/master/Lassoand%20Regression.ipynb\n",
    "\n",
    "\n"
   ]
  }
 ],
 "metadata": {
  "kernelspec": {
   "display_name": "Python 3",
   "language": "python",
   "name": "python3"
  },
  "language_info": {
   "codemirror_mode": {
    "name": "ipython",
    "version": 3
   },
   "file_extension": ".py",
   "mimetype": "text/x-python",
   "name": "python",
   "nbconvert_exporter": "python",
   "pygments_lexer": "ipython3",
   "version": "3.7.6"
  }
 },
 "nbformat": 4,
 "nbformat_minor": 4
}
